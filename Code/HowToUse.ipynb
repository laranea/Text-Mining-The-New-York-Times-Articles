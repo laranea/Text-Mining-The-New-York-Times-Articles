{
 "cells": [
  {
   "cell_type": "markdown",
   "metadata": {},
   "source": [
    "# Text Mining The New York Times' Online Articles\n",
    "\n",
    "Before starting, make sure to read the 'Considerations and Constraints' section on the repository's README file [here](https://github.com/nilmolne/Text-Mining-The-New-York-Times-Articles#constraints).\n",
    "\n",
    "Along this Jupyter Notebook you will find how to use the algorithm's functions in the repository together with brief explanations of some key concepts on text mining. For further detail on the implementation of the algorithm's functions, please refer to *textminingnyt.py* file [here](https://github.com/nilmolne/Text-Mining-The-New-York-Times-Articles/blob/master/Code/textminingnyt.py).\n",
    "\n",
    "To get ready to mine text from the NYT online articles, first call the *textminingnyt* module which contains all necessary functions and libraries that will be used later on. Make sure to have installed under your Python environment the following libraries: *NumPy, Pandas, Time, NLTK, Re, Requests, *and* BeautifulSoup*."
   ]
  },
  {
   "cell_type": "code",
   "execution_count": 5,
   "metadata": {
    "collapsed": false
   },
   "outputs": [],
   "source": [
    "from textminingnyt import *"
   ]
  },
  {
   "cell_type": "markdown",
   "metadata": {},
   "source": [
    "Initialize the main variable used by all functions in the *textminingnyt* module to display each stage results. Note that functions are thought to be run sequentially following the order that this notebook does. The variable 'articles_df' will get overwritten step after step."
   ]
  },
  {
   "cell_type": "code",
   "execution_count": 6,
   "metadata": {
    "collapsed": true
   },
   "outputs": [],
   "source": [
    "articles_df = pd.DataFrame()"
   ]
  },
  {
   "cell_type": "markdown",
   "metadata": {},
   "source": [
    "## 0 Customize Search Scope\n",
    "\n",
    "Choose the country in which you want to base your analysis on, and a yearly time range that potentially spans the events you are looking for. The words specified in the dictionary will be mined from the articles and reported in form of a frequency of occurrence over the time of exploration on a monthly basis."
   ]
  },
  {
   "cell_type": "code",
   "execution_count": 7,
   "metadata": {
    "collapsed": false,
    "nbpresent": {
     "id": "e3957f7f-8971-42e2-8609-02590cfa9b70"
    }
   },
   "outputs": [],
   "source": [
    "start_year = 2002\n",
    "end_year = 2015\n",
    "country = 'Sweden'\n",
    "dictionary = 'Vote, Ballot, Poll'"
   ]
  },
  {
   "cell_type": "markdown",
   "metadata": {},
   "source": [
    "This example will look for the words **vote**, **ballot** and **poll** over the articles published as geolocated in **Sweden** from the year **2002** through **2015**. When visualizing the results in the end of text mining process, a high frequency of occurrence is expected only in times of election."
   ]
  },
  {
   "cell_type": "markdown",
   "metadata": {},
   "source": [
    "## 1 Build URL Article Database\n",
    "\n",
    "The New York Times offers developers up to 11 search APIs to retrieve certain information for different uses. For this project's purposes, only the Article Search API will be used. All the programmer needs to do to access it is to request an API key and install the *nytimesarticle* package which is wrapper to query the New York Times Article Search API.\n",
    "\n",
    "*The API key can be requested at: http://developer.nytimes.com/signup*\n",
    "\n",
    "*The nytimesarticle package can be downloaded from: https://pypi.python.org/pypi/nytimesarticle/0.1.0*\n",
    "\n",
    "With the Article Search API, one can search New York Times articles from September 18, 1851 to today, retrieving the URL to the articles, plus their headlines, abstracts, lead paragraphs, associated multimedia, and other article metadata. "
   ]
  },
  {
   "cell_type": "code",
   "execution_count": 9,
   "metadata": {
    "collapsed": false
   },
   "outputs": [
    {
     "name": "stdout",
     "output_type": "stream",
     "text": [
      " Retrieving articles URL... Done!\n"
     ]
    },
    {
     "data": {
      "text/html": [
       "<div>\n",
       "<table border=\"1\" class=\"dataframe\">\n",
       "  <thead>\n",
       "    <tr style=\"text-align: right;\">\n",
       "      <th></th>\n",
       "      <th>date</th>\n",
       "      <th>url</th>\n",
       "      <th>word_count</th>\n",
       "    </tr>\n",
       "  </thead>\n",
       "  <tbody>\n",
       "    <tr>\n",
       "      <th>144</th>\n",
       "      <td>2015-11-11</td>\n",
       "      <td>https://www.nytimes.com/2015/11/11/world/europ...</td>\n",
       "      <td>1183</td>\n",
       "    </tr>\n",
       "    <tr>\n",
       "      <th>145</th>\n",
       "      <td>2015-11-13</td>\n",
       "      <td>https://www.nytimes.com/2015/11/13/world/europ...</td>\n",
       "      <td>893</td>\n",
       "    </tr>\n",
       "    <tr>\n",
       "      <th>146</th>\n",
       "      <td>2015-11-16</td>\n",
       "      <td>https://www.nytimes.com/2015/11/16/world/europ...</td>\n",
       "      <td>1387</td>\n",
       "    </tr>\n",
       "    <tr>\n",
       "      <th>147</th>\n",
       "      <td>2015-11-28</td>\n",
       "      <td>https://www.nytimes.com/2015/11/28/world/europ...</td>\n",
       "      <td>1147</td>\n",
       "    </tr>\n",
       "    <tr>\n",
       "      <th>148</th>\n",
       "      <td>2015-12-25</td>\n",
       "      <td>https://www.nytimes.com/2015/12/25/world/europ...</td>\n",
       "      <td>1254</td>\n",
       "    </tr>\n",
       "  </tbody>\n",
       "</table>\n",
       "</div>"
      ],
      "text/plain": [
       "           date                                                url  word_count\n",
       "144  2015-11-11  https://www.nytimes.com/2015/11/11/world/europ...        1183\n",
       "145  2015-11-13  https://www.nytimes.com/2015/11/13/world/europ...         893\n",
       "146  2015-11-16  https://www.nytimes.com/2015/11/16/world/europ...        1387\n",
       "147  2015-11-28  https://www.nytimes.com/2015/11/28/world/europ...        1147\n",
       "148  2015-12-25  https://www.nytimes.com/2015/12/25/world/europ...        1254"
      ]
     },
     "execution_count": 9,
     "metadata": {},
     "output_type": "execute_result"
    }
   ],
   "source": [
    "#api = articleAPI('Your API key here')\n",
    "\n",
    "# Get Article URL List\n",
    "articles_df = get_articles_url(api, country, start_year, end_year)\n",
    "articles_df.tail()"
   ]
  },
  {
   "cell_type": "markdown",
   "metadata": {},
   "source": [
    "As a result, the function returns a dataframe where each row represents an article and contains its publishing date, url to the full article and number of words. **Notice that the API does not return full body text of the articles**. Nevertheless, the URLs to the articles can conceivably be used to scrape the full text of the articles of interest, on a later stage."
   ]
  },
  {
   "cell_type": "markdown",
   "metadata": {},
   "source": [
    "## 2 Scarp Article Content\n",
    "\n",
    "Given the corpus of article URLs in *articles_df* the user wants to analyze; the next step is to extract each article's body text from its HTML form. HTML provides a means to create structured documents by denoting structural semantics for text such as headings, paragraphs, lists, links, quotes and other items. These elements are delineated by tags.\n",
    "\n",
    "Analyzing many online articles, it was found that developers in the NYT locate article body text under **p tags of class “story-body-text story-content”** or on earlier published articles under **p tags with an itemprop called “articleBody”**. The scarping of such p tags is carried out by BeautifulSoup. Headliners, commercials, and others are stored in different tags."
   ]
  },
  {
   "cell_type": "code",
   "execution_count": 10,
   "metadata": {
    "collapsed": false
   },
   "outputs": [
    {
     "name": "stdout",
     "output_type": "stream",
     "text": [
      "Scarping articles body text... Done!\n"
     ]
    },
    {
     "data": {
      "text/html": [
       "<div>\n",
       "<table border=\"1\" class=\"dataframe\">\n",
       "  <thead>\n",
       "    <tr style=\"text-align: right;\">\n",
       "      <th></th>\n",
       "      <th>date</th>\n",
       "      <th>url</th>\n",
       "      <th>word_count</th>\n",
       "      <th>article_text</th>\n",
       "    </tr>\n",
       "  </thead>\n",
       "  <tbody>\n",
       "    <tr>\n",
       "      <th>144</th>\n",
       "      <td>2015-11-11</td>\n",
       "      <td>https://www.nytimes.com/2015/11/11/world/europ...</td>\n",
       "      <td>1183</td>\n",
       "      <td>LONDON —  Matthew Barzun, the American ambass...</td>\n",
       "    </tr>\n",
       "    <tr>\n",
       "      <th>145</th>\n",
       "      <td>2015-11-13</td>\n",
       "      <td>https://www.nytimes.com/2015/11/13/world/europ...</td>\n",
       "      <td>893</td>\n",
       "      <td>VALLETTA, Malta —  The European Union appeare...</td>\n",
       "    </tr>\n",
       "    <tr>\n",
       "      <th>146</th>\n",
       "      <td>2015-11-16</td>\n",
       "      <td>https://www.nytimes.com/2015/11/16/world/europ...</td>\n",
       "      <td>1387</td>\n",
       "      <td>RAASEPORI, Finland —  Sweden, Norway, Denmark...</td>\n",
       "    </tr>\n",
       "    <tr>\n",
       "      <th>147</th>\n",
       "      <td>2015-11-28</td>\n",
       "      <td>https://www.nytimes.com/2015/11/28/world/europ...</td>\n",
       "      <td>1147</td>\n",
       "      <td>LONDON — It may seem an inopportune time to s...</td>\n",
       "    </tr>\n",
       "    <tr>\n",
       "      <th>148</th>\n",
       "      <td>2015-12-25</td>\n",
       "      <td>https://www.nytimes.com/2015/12/25/world/europ...</td>\n",
       "      <td>1254</td>\n",
       "      <td>FORSSA, Finland —  War in Syria and Iraq seem...</td>\n",
       "    </tr>\n",
       "  </tbody>\n",
       "</table>\n",
       "</div>"
      ],
      "text/plain": [
       "           date                                                url  \\\n",
       "144  2015-11-11  https://www.nytimes.com/2015/11/11/world/europ...   \n",
       "145  2015-11-13  https://www.nytimes.com/2015/11/13/world/europ...   \n",
       "146  2015-11-16  https://www.nytimes.com/2015/11/16/world/europ...   \n",
       "147  2015-11-28  https://www.nytimes.com/2015/11/28/world/europ...   \n",
       "148  2015-12-25  https://www.nytimes.com/2015/12/25/world/europ...   \n",
       "\n",
       "     word_count                                       article_text  \n",
       "144        1183   LONDON —  Matthew Barzun, the American ambass...  \n",
       "145         893   VALLETTA, Malta —  The European Union appeare...  \n",
       "146        1387   RAASEPORI, Finland —  Sweden, Norway, Denmark...  \n",
       "147        1147   LONDON — It may seem an inopportune time to s...  \n",
       "148        1254   FORSSA, Finland —  War in Syria and Iraq seem...  "
      ]
     },
     "execution_count": 10,
     "metadata": {},
     "output_type": "execute_result"
    }
   ],
   "source": [
    "# Get Article Text\n",
    "articles_df = scarp_articles_text(articles_df)\n",
    "articles_df.tail()"
   ]
  },
  {
   "cell_type": "markdown",
   "metadata": {},
   "source": [
    "After calling the function *scarp_articles_text()*, the *articles_df* dataframe is expanded by adding a new string type of column that includes all articles' body text for each article URL collected in step 1."
   ]
  },
  {
   "cell_type": "markdown",
   "metadata": {},
   "source": [
    "## 3 Text Mine Articles\n",
    "\n",
    "#### Analytical Article Pre-processing\n",
    "\n",
    "Once the body text of each article was scarped, the next step is to transform it into a format amenable to analysis, o in other words, break each article's body text into tokens. Tokenize involves representing text as a list of words, numbers, punctuation, and potentially other symbols, which will become the input for the count of words. The result of a tokenization of an article's body text is the so-called **bag of words**.\n",
    "\n",
    "A key aspect of text mining is to reduce the dimensionality of bag of words representations to eliminate ‘noise’ to highlight only the articles’ distinctive content. The actions taken to get rid of superfluous content are performed by NLTK library functions and are listed below:\n",
    "\n",
    "1.\tRemove punctuation and rare words: ‘In’, ‘at’, ‘the, ‘a’ … are extremely common words but contribute little to distinguishing the content of an article from another. These so-called stop-words are dropped from the bag.\n",
    "\n",
    "2.\tStemming: It translates to cutting off affixes to be able to restrict the counting in the next step just to stems. For example, the word ‘censoring’ contains the stem ‘censor’ and the affix ‘-ing’. Therefore, ‘censoring’ and ‘censor’ once stemmed are treated as two instances of the same token.\n",
    "\n",
    "3.\tCase folding: It involves converting all alphabetic tokens to lowercase. In some cases, though, this might change meaning for some nouns. For example, an acronym such as ‘US’ (referring to the United States) is erroneously converted to the pronoun ‘us’. This function doesn't take care of this issue.\n",
    "\n",
    "#### Word Count\n",
    "\n",
    "To count words, the algorithm's function is going to use a dictionary text mining technique. Generally, all of the text mining techniques are based on text content analysis to summarize what texts are about. The intuition behind any dictionary text mining technique is that the frequency of words and their occurrence are good indicators of the topic or sentiment expressed in texts.\n",
    "\n",
    "Dictionary techniques typically proceed in two steps:\n",
    "\n",
    "1.\tStart by defining a list of key words to capture content of interest as done in the step 0,\n",
    "\n",
    "2.\tThen represent each document in terms of the frequency of words in the dictionary.\n",
    "\n",
    "Continuing with the example, let the dictionary be [Vote, Ballot, Poll]. Each article *a* can be represented as the share of words *S_a* in the dictionary that were found in the article’s bag of words, where,\n",
    "\n",
    "<center><img src = \"Formula.png\" width = 600px height = 600px></center>\n",
    "\n",
    "Equation 1.1 is called **article's *a* frequency of occurrence**."
   ]
  },
  {
   "cell_type": "code",
   "execution_count": 12,
   "metadata": {
    "collapsed": false
   },
   "outputs": [
    {
     "name": "stdout",
     "output_type": "stream",
     "text": [
      "Text mine articles... Done!\n"
     ]
    },
    {
     "data": {
      "text/html": [
       "<div>\n",
       "<table border=\"1\" class=\"dataframe\">\n",
       "  <thead>\n",
       "    <tr style=\"text-align: right;\">\n",
       "      <th></th>\n",
       "      <th>date</th>\n",
       "      <th>url</th>\n",
       "      <th>word_count</th>\n",
       "      <th>article_text</th>\n",
       "      <th>num_occurr</th>\n",
       "      <th>freq_occurr</th>\n",
       "    </tr>\n",
       "  </thead>\n",
       "  <tbody>\n",
       "    <tr>\n",
       "      <th>144</th>\n",
       "      <td>2015-11-11</td>\n",
       "      <td>https://www.nytimes.com/2015/11/11/world/europ...</td>\n",
       "      <td>1183</td>\n",
       "      <td>LONDON —  Matthew Barzun, the American ambass...</td>\n",
       "      <td>1</td>\n",
       "      <td>0.000845</td>\n",
       "    </tr>\n",
       "    <tr>\n",
       "      <th>145</th>\n",
       "      <td>2015-11-13</td>\n",
       "      <td>https://www.nytimes.com/2015/11/13/world/europ...</td>\n",
       "      <td>893</td>\n",
       "      <td>VALLETTA, Malta —  The European Union appeare...</td>\n",
       "      <td>0</td>\n",
       "      <td>0.000000</td>\n",
       "    </tr>\n",
       "    <tr>\n",
       "      <th>146</th>\n",
       "      <td>2015-11-16</td>\n",
       "      <td>https://www.nytimes.com/2015/11/16/world/europ...</td>\n",
       "      <td>1387</td>\n",
       "      <td>RAASEPORI, Finland —  Sweden, Norway, Denmark...</td>\n",
       "      <td>3</td>\n",
       "      <td>0.002163</td>\n",
       "    </tr>\n",
       "    <tr>\n",
       "      <th>147</th>\n",
       "      <td>2015-11-28</td>\n",
       "      <td>https://www.nytimes.com/2015/11/28/world/europ...</td>\n",
       "      <td>1147</td>\n",
       "      <td>LONDON — It may seem an inopportune time to s...</td>\n",
       "      <td>7</td>\n",
       "      <td>0.006103</td>\n",
       "    </tr>\n",
       "    <tr>\n",
       "      <th>148</th>\n",
       "      <td>2015-12-25</td>\n",
       "      <td>https://www.nytimes.com/2015/12/25/world/europ...</td>\n",
       "      <td>1254</td>\n",
       "      <td>FORSSA, Finland —  War in Syria and Iraq seem...</td>\n",
       "      <td>0</td>\n",
       "      <td>0.000000</td>\n",
       "    </tr>\n",
       "  </tbody>\n",
       "</table>\n",
       "</div>"
      ],
      "text/plain": [
       "           date                                                url  \\\n",
       "144  2015-11-11  https://www.nytimes.com/2015/11/11/world/europ...   \n",
       "145  2015-11-13  https://www.nytimes.com/2015/11/13/world/europ...   \n",
       "146  2015-11-16  https://www.nytimes.com/2015/11/16/world/europ...   \n",
       "147  2015-11-28  https://www.nytimes.com/2015/11/28/world/europ...   \n",
       "148  2015-12-25  https://www.nytimes.com/2015/12/25/world/europ...   \n",
       "\n",
       "     word_count                                       article_text  \\\n",
       "144        1183   LONDON —  Matthew Barzun, the American ambass...   \n",
       "145         893   VALLETTA, Malta —  The European Union appeare...   \n",
       "146        1387   RAASEPORI, Finland —  Sweden, Norway, Denmark...   \n",
       "147        1147   LONDON — It may seem an inopportune time to s...   \n",
       "148        1254   FORSSA, Finland —  War in Syria and Iraq seem...   \n",
       "\n",
       "     num_occurr  freq_occurr  \n",
       "144           1     0.000845  \n",
       "145           0     0.000000  \n",
       "146           3     0.002163  \n",
       "147           7     0.006103  \n",
       "148           0     0.000000  "
      ]
     },
     "execution_count": 12,
     "metadata": {},
     "output_type": "execute_result"
    }
   ],
   "source": [
    "# Article pre-processing and word count\n",
    "articles_df = text_mine_articles(articles_df, dictionary)\n",
    "articles_df.tail()"
   ]
  },
  {
   "cell_type": "markdown",
   "metadata": {},
   "source": [
    "By calling *text_mine_articles()* the function will add as columns to *articles_df* the number of counted occurrences for every word in the dictionary and compute each article's frequency of occurrence dividing the number of occurrences by the amount of words in the article as seen in equation 1.1 above."
   ]
  },
  {
   "cell_type": "markdown",
   "metadata": {},
   "source": [
    "## 4 Present Results\n",
    "\n",
    "Articles in The New York Times are published on a given day whereas many events of interest are defined monthly, quarterly or even yearly. As a consequence, the results obtained on the previous step have to be normalized and expressed in monthly, quarterly or yearly terms."
   ]
  },
  {
   "cell_type": "code",
   "execution_count": 13,
   "metadata": {
    "collapsed": false,
    "nbpresent": {
     "id": "0a5ef679-8bc9-45b6-a554-223a53677334"
    },
    "scrolled": true
   },
   "outputs": [
    {
     "name": "stdout",
     "output_type": "stream",
     "text": [
      "Arranging results monthly into a new dataframe... Done!\n"
     ]
    },
    {
     "data": {
      "text/html": [
       "<div>\n",
       "<table border=\"1\" class=\"dataframe\">\n",
       "  <thead>\n",
       "    <tr style=\"text-align: right;\">\n",
       "      <th></th>\n",
       "      <th>month_freq_occurr</th>\n",
       "      <th>num_articles</th>\n",
       "      <th>norm_freq_occurr</th>\n",
       "    </tr>\n",
       "    <tr>\n",
       "      <th>date</th>\n",
       "      <th></th>\n",
       "      <th></th>\n",
       "      <th></th>\n",
       "    </tr>\n",
       "  </thead>\n",
       "  <tbody>\n",
       "    <tr>\n",
       "      <th>2015-08-31</th>\n",
       "      <td>0.000763</td>\n",
       "      <td>4.0</td>\n",
       "      <td>0.000191</td>\n",
       "    </tr>\n",
       "    <tr>\n",
       "      <th>2015-09-30</th>\n",
       "      <td>0.001577</td>\n",
       "      <td>4.0</td>\n",
       "      <td>0.000394</td>\n",
       "    </tr>\n",
       "    <tr>\n",
       "      <th>2015-10-31</th>\n",
       "      <td>0.001205</td>\n",
       "      <td>4.0</td>\n",
       "      <td>0.000301</td>\n",
       "    </tr>\n",
       "    <tr>\n",
       "      <th>2015-11-30</th>\n",
       "      <td>0.009111</td>\n",
       "      <td>6.0</td>\n",
       "      <td>0.001519</td>\n",
       "    </tr>\n",
       "    <tr>\n",
       "      <th>2015-12-31</th>\n",
       "      <td>0.000000</td>\n",
       "      <td>1.0</td>\n",
       "      <td>0.000000</td>\n",
       "    </tr>\n",
       "  </tbody>\n",
       "</table>\n",
       "</div>"
      ],
      "text/plain": [
       "            month_freq_occurr  num_articles  norm_freq_occurr\n",
       "date                                                         \n",
       "2015-08-31           0.000763           4.0          0.000191\n",
       "2015-09-30           0.001577           4.0          0.000394\n",
       "2015-10-31           0.001205           4.0          0.000301\n",
       "2015-11-30           0.009111           6.0          0.001519\n",
       "2015-12-31           0.000000           1.0          0.000000"
      ]
     },
     "execution_count": 13,
     "metadata": {},
     "output_type": "execute_result"
    }
   ],
   "source": [
    "# Build the Resulting Monthly Time Series\n",
    "results_df = get_monthly_results(articles_df, start_year, end_year)\n",
    "results_df.tail()"
   ]
  },
  {
   "cell_type": "markdown",
   "metadata": {},
   "source": [
    "The algorithm is set to present results monthly. As a consequence, all calculated frequencies of occurrence for each article within a month, for all months analyzed, are first accumulated to give a monthly frequency of occurrence. After, this monthly added frequency is normalized by the amount of published articles in its month. The former calculation is found under the column '*month_freq_occurr*' whereas the latter is found under '*norm_freq_occurr*'."
   ]
  },
  {
   "cell_type": "markdown",
   "metadata": {},
   "source": [
    "## 5 Visualize Results\n",
    "\n",
    "Once the previous 4 functions have been successfully called, the results are ready to be checked by means of a plot."
   ]
  },
  {
   "cell_type": "code",
   "execution_count": 14,
   "metadata": {
    "collapsed": false
   },
   "outputs": [
    {
     "data": {
      "image/png": "[encoded data removed]",
      "text/plain": [
       "<matplotlib.figure.Figure at 0x118837850>"
      ]
     },
     "metadata": {},
     "output_type": "display_data"
    }
   ],
   "source": [
    "# Visualize Results\n",
    "visualize_results(results_df, country, start_year, end_year, dictionary)"
   ]
  },
  {
   "cell_type": "markdown",
   "metadata": {},
   "source": [
    "Observe how frequencies of occurrence (represented in blue) typically exceed the 0.002 mark only when Sweden have held any kind of election (starting with the general election in September 2002) or referendum (big peak in September 2003). You can double check it at the bottom of [this Wikipedia page](https://en.wikipedia.org/wiki/Elections_in_Sweden)."
   ]
  },
  {
   "cell_type": "markdown",
   "metadata": {
    "collapsed": true
   },
   "source": [
    "## Conclusion\n",
    "\n",
    "This text mining technique is only a deductive approach in that it starts with a predefined list of words, motivated by a general theory as to why these words matter. The strengths of this approach are simplicity and scalability. Code for its implementation is typically simple, and can be applied easily to massive text files. However, the weakness of this approach is its focus only on words pre-judged by the researcher to be informative while ignoring all other words.\n",
    "\n",
    "Some other more advanced approaches such as Latent Semantic Analysis, Latent Dirichlet Allocation and Descending Hierarchical Classification look for thematic patterns in a particular corpus without claiming that these patterns hold in other documents. The main strength of these techniques is that they analyze all words within the corpus and yield more sophisticated statistical outputs. Their main disadvantage is programming complexity."
   ]
  },
  {
   "cell_type": "markdown",
   "metadata": {},
   "source": [
    "## References\n",
    "\n",
    "[1] Liran Einav and Jonathan Levin, Economics in the age of big data, *Science 346*, (2014).\n",
    "\n",
    "[2] Bank of England, One Bank Research Agenda, *Pages 23-29*, (2005).\n",
    "\n",
    "[3] Bank of England, Using Internet Search Data as Economic Indicators, *Bulletin Q2*, (2011)."
   ]
  }
 ],
 "metadata": {
  "anaconda-cloud": {},
  "kernelspec": {
   "display_name": "Python [default]",
   "language": "python",
   "name": "python2"
  },
  "language_info": {
   "codemirror_mode": {
    "name": "ipython",
    "version": 2
   },
   "file_extension": ".py",
   "mimetype": "text/x-python",
   "name": "python",
   "nbconvert_exporter": "python",
   "pygments_lexer": "ipython2",
   "version": "2.7.12"
  },
  "nbpresent": {
   "slides": {
    "0535b79c-86d5-4ffc-b5d9-ff3e1da17faf": {
     "id": "0535b79c-86d5-4ffc-b5d9-ff3e1da17faf",
     "prev": "663c8564-e2ba-436e-89a0-2be1996cdb07",
     "regions": {
      "7cf8a97e-62b0-44b6-9be2-50264e0bc2e6": {
       "attrs": {
        "height": 0.8,
        "width": 0.8,
        "x": 0.1,
        "y": 0.1
       },
       "content": {
        "cell": "0a5ef679-8bc9-45b6-a554-223a53677334",
        "part": "whole"
       },
       "id": "7cf8a97e-62b0-44b6-9be2-50264e0bc2e6"
      }
     }
    },
    "4ea2ff32-1d1b-458e-b58b-920d1920165d": {
     "id": "4ea2ff32-1d1b-458e-b58b-920d1920165d",
     "prev": "589934d5-d94a-4bf1-b9b6-74b8134bbca8",
     "regions": {
      "cf32cd9b-854e-48bf-9ff4-27b1b783e80c": {
       "attrs": {
        "height": 0.8,
        "width": 0.8,
        "x": 0.1,
        "y": 0.1
       },
       "content": {
        "cell": "52825604-3e01-45cc-a04a-ecb7edc1d53b",
        "part": "whole"
       },
       "id": "cf32cd9b-854e-48bf-9ff4-27b1b783e80c"
      }
     }
    },
    "589934d5-d94a-4bf1-b9b6-74b8134bbca8": {
     "id": "589934d5-d94a-4bf1-b9b6-74b8134bbca8",
     "prev": "fc87cb73-57a4-4cf3-8019-c30fed2062f6",
     "regions": {
      "118593c8-45ca-430d-a133-82d34127e869": {
       "attrs": {
        "height": 0.8,
        "width": 0.8,
        "x": 0.1,
        "y": 0.1
       },
       "content": {
        "cell": "9529abbd-a522-41a0-bae3-14c12fda6090",
        "part": "whole"
       },
       "id": "118593c8-45ca-430d-a133-82d34127e869"
      }
     }
    },
    "663c8564-e2ba-436e-89a0-2be1996cdb07": {
     "id": "663c8564-e2ba-436e-89a0-2be1996cdb07",
     "prev": "e1708960-8f49-41c6-ae0a-5ff326d0db05",
     "regions": {
      "797bdf7b-9eda-4358-bb5c-a85bf3382096": {
       "attrs": {
        "height": 0.8,
        "width": 0.8,
        "x": 0.1,
        "y": 0.1
       },
       "content": {
        "cell": "e3957f7f-8971-42e2-8609-02590cfa9b70",
        "part": "whole"
       },
       "id": "797bdf7b-9eda-4358-bb5c-a85bf3382096"
      }
     }
    },
    "700d640e-ed18-432d-9eab-d3a8bba68d04": {
     "id": "700d640e-ed18-432d-9eab-d3a8bba68d04",
     "prev": "c9e6ec42-826f-4343-9d93-532c5691f3ba",
     "regions": {
      "78581d19-61fd-4697-81af-11e157302adb": {
       "attrs": {
        "height": 0.8,
        "width": 0.8,
        "x": 0.1,
        "y": 0.1
       },
       "content": {
        "cell": "e3307cb4-c891-4454-99e6-2121a80f7a64",
        "part": "whole"
       },
       "id": "78581d19-61fd-4697-81af-11e157302adb"
      }
     }
    },
    "84a43d72-d3cb-4211-9369-063751d876ba": {
     "id": "84a43d72-d3cb-4211-9369-063751d876ba",
     "prev": "0535b79c-86d5-4ffc-b5d9-ff3e1da17faf",
     "regions": {
      "5580b603-d02e-4956-8b94-5c9aecf1b51f": {
       "attrs": {
        "height": 0.8,
        "width": 0.8,
        "x": 0.1,
        "y": 0.1
       },
       "content": {
        "cell": "c524352d-b3b1-4964-b0f8-c9f742cf0eba",
        "part": "whole"
       },
       "id": "5580b603-d02e-4956-8b94-5c9aecf1b51f"
      }
     }
    },
    "8e256ee7-3076-4ef2-ab81-4cc0c6a25f18": {
     "id": "8e256ee7-3076-4ef2-ab81-4cc0c6a25f18",
     "prev": "ec5ab69d-e471-4f15-929d-fec441b75299",
     "regions": {
      "3cc80ee6-b7c9-4558-a698-35460fffb55e": {
       "attrs": {
        "height": 0.8,
        "width": 0.8,
        "x": 0.1,
        "y": 0.1
       },
       "content": {
        "cell": "68929c4f-e2b0-4f93-a62a-cbcc4717a72f",
        "part": "whole"
       },
       "id": "3cc80ee6-b7c9-4558-a698-35460fffb55e"
      }
     }
    },
    "9345fe08-209e-48ff-a014-b39ca8c64b3a": {
     "id": "9345fe08-209e-48ff-a014-b39ca8c64b3a",
     "prev": null,
     "regions": {
      "c1b7a419-cc89-4fa7-81d4-18871a02aecd": {
       "attrs": {
        "height": 0.8,
        "width": 0.8,
        "x": 0.1,
        "y": 0.1
       },
       "content": {
        "cell": "e756ce28-ae63-4bc7-b6e3-40a919ec601e",
        "part": "whole"
       },
       "id": "c1b7a419-cc89-4fa7-81d4-18871a02aecd"
      }
     }
    },
    "bcd882c8-e82c-457c-993b-ce5832956be4": {
     "id": "bcd882c8-e82c-457c-993b-ce5832956be4",
     "prev": "e24acb32-b5d4-40c5-ae71-55f0cde2c6c6",
     "regions": {
      "22ef3e17-8973-497c-a9e2-20464e7c7cb8": {
       "attrs": {
        "height": 0.8,
        "width": 0.8,
        "x": 0.1,
        "y": 0.1
       },
       "content": {
        "cell": "56c18e4c-1e23-4e4a-be1a-6989f651f41c",
        "part": "whole"
       },
       "id": "22ef3e17-8973-497c-a9e2-20464e7c7cb8"
      }
     }
    },
    "c9e6ec42-826f-4343-9d93-532c5691f3ba": {
     "id": "c9e6ec42-826f-4343-9d93-532c5691f3ba",
     "prev": "ea6ed5f3-4972-4d8b-b443-099a5e8399f9",
     "regions": {
      "e2e5610b-dc4c-4e58-be80-f4ce85aa9496": {
       "attrs": {
        "height": 0.8,
        "width": 0.8,
        "x": 0.1,
        "y": 0.1
       },
       "content": {
        "cell": "d6d75e9b-1a30-4e5c-8384-a358e5682521",
        "part": "whole"
       },
       "id": "e2e5610b-dc4c-4e58-be80-f4ce85aa9496"
      }
     }
    },
    "cae5a924-9fed-4074-925f-1c4889524355": {
     "id": "cae5a924-9fed-4074-925f-1c4889524355",
     "prev": "700d640e-ed18-432d-9eab-d3a8bba68d04",
     "regions": {
      "d272ab37-3a63-4e0c-93c3-d4c4e7c748fa": {
       "attrs": {
        "height": 0.8,
        "width": 0.8,
        "x": 0.1,
        "y": 0.1
       },
       "content": {
        "cell": "68becb4b-5aed-413b-8898-6af10acd99b2",
        "part": "whole"
       },
       "id": "d272ab37-3a63-4e0c-93c3-d4c4e7c748fa"
      }
     }
    },
    "dd2ea3ae-8e12-470d-916e-b0c5c03791f4": {
     "id": "dd2ea3ae-8e12-470d-916e-b0c5c03791f4",
     "prev": "84a43d72-d3cb-4211-9369-063751d876ba",
     "regions": {
      "484afa61-cea1-4cc9-8f2d-302a1aad4b7f": {
       "attrs": {
        "height": 0.8,
        "width": 0.8,
        "x": 0.1,
        "y": 0.1
       },
       "content": {
        "cell": "82b4a767-c8e0-42cc-b7ee-51fb371287d1",
        "part": "whole"
       },
       "id": "484afa61-cea1-4cc9-8f2d-302a1aad4b7f"
      }
     }
    },
    "e1708960-8f49-41c6-ae0a-5ff326d0db05": {
     "id": "e1708960-8f49-41c6-ae0a-5ff326d0db05",
     "prev": "9345fe08-209e-48ff-a014-b39ca8c64b3a",
     "regions": {
      "92a7234a-5367-4e75-8e18-1c23a83210b5": {
       "attrs": {
        "height": 0.8,
        "width": 0.8,
        "x": 0.1,
        "y": 0.1
       },
       "content": {
        "cell": "42fc8ee7-8f0c-45fc-9b82-42c250bdd79a",
        "part": "whole"
       },
       "id": "92a7234a-5367-4e75-8e18-1c23a83210b5"
      }
     }
    },
    "e24acb32-b5d4-40c5-ae71-55f0cde2c6c6": {
     "id": "e24acb32-b5d4-40c5-ae71-55f0cde2c6c6",
     "prev": "4ea2ff32-1d1b-458e-b58b-920d1920165d",
     "regions": {
      "006227e9-7864-4f91-b43f-03973b3b5f49": {
       "attrs": {
        "height": 0.8,
        "width": 0.8,
        "x": 0.1,
        "y": 0.1
       },
       "content": {
        "cell": "05c4129c-6980-43b5-b37a-b937b84fa3f9",
        "part": "whole"
       },
       "id": "006227e9-7864-4f91-b43f-03973b3b5f49"
      }
     }
    },
    "ea6ed5f3-4972-4d8b-b443-099a5e8399f9": {
     "id": "ea6ed5f3-4972-4d8b-b443-099a5e8399f9",
     "prev": "bcd882c8-e82c-457c-993b-ce5832956be4",
     "regions": {
      "7a161db2-834b-4e22-b05e-da60d8414abf": {
       "attrs": {
        "height": 0.8,
        "width": 0.8,
        "x": 0.1,
        "y": 0.1
       },
       "content": {
        "cell": "14a8b251-3862-432c-aaea-7c3e995ead64",
        "part": "whole"
       },
       "id": "7a161db2-834b-4e22-b05e-da60d8414abf"
      }
     }
    },
    "ec5ab69d-e471-4f15-929d-fec441b75299": {
     "id": "ec5ab69d-e471-4f15-929d-fec441b75299",
     "prev": "dd2ea3ae-8e12-470d-916e-b0c5c03791f4",
     "regions": {
      "8ecbca84-abc8-45eb-b2a5-8f4c17c1f6d5": {
       "attrs": {
        "height": 0.8,
        "width": 0.8,
        "x": 0.1,
        "y": 0.1
       },
       "content": {
        "cell": "db78c6be-9e09-4447-8b65-906c01325c9e",
        "part": "whole"
       },
       "id": "8ecbca84-abc8-45eb-b2a5-8f4c17c1f6d5"
      }
     }
    },
    "fc87cb73-57a4-4cf3-8019-c30fed2062f6": {
     "id": "fc87cb73-57a4-4cf3-8019-c30fed2062f6",
     "prev": "8e256ee7-3076-4ef2-ab81-4cc0c6a25f18",
     "regions": {
      "4c087e34-c56e-46b2-9c85-cd733ec62102": {
       "attrs": {
        "height": 0.8,
        "width": 0.8,
        "x": 0.1,
        "y": 0.1
       },
       "content": {
        "cell": "69201fca-d7ec-4726-a87e-0cd697ac912c",
        "part": "whole"
       },
       "id": "4c087e34-c56e-46b2-9c85-cd733ec62102"
      }
     }
    }
   },
   "themes": {}
  }
 },
 "nbformat": 4,
 "nbformat_minor": 1
}
